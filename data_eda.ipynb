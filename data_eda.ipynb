{
 "cells": [
  {
   "cell_type": "markdown",
   "metadata": {},
   "source": [
    "## Data Analysis - Indeed Jobs"
   ]
  },
  {
   "cell_type": "markdown",
   "metadata": {},
   "source": [
    "### Summary\n",
    "\n",
    "In this project we analyse **indeed_jobs.csv** dataset obtained by scraping <a href=\"https://www.indeed.com/\">Indeed</a> web \n",
    "pages for my project **WebScraping-Indeed**. \n",
    "\n",
    "The project covers **data manipulation**, **visualization** and **analysis**.\n",
    "\n",
    "It is primarily based in Python. It uses Numpy and Pandas libraries for data manipulation and Matplotlib and Seaborn for \n",
    "visualizations. "
   ]
  },
  {
   "cell_type": "code",
   "execution_count": 1,
   "metadata": {},
   "outputs": [],
   "source": [
    "# Import libraries\n",
    "\n",
    "import pandas as pd\n",
    "import numpy as np\n",
    "import matplotlib.pyplot as plt\n",
    "import seaborn as sns\n",
    "sns.set_style('darkgrid')\n",
    "\n",
    "%matplotlib inline"
   ]
  },
  {
   "cell_type": "markdown",
   "metadata": {},
   "source": [
    "### Load data"
   ]
  },
  {
   "cell_type": "markdown",
   "metadata": {},
   "source": [
    "The dataset is loaded from **indeed_jobs.csv** file into a Pandas dataframe. \n",
    "\n",
    "It has **1296 rows and 5 columns**. Each row contains details about one job posting: **Title, Company, Location, Salary\n",
    "and Summary**."
   ]
  },
  {
   "cell_type": "code",
   "execution_count": 2,
   "metadata": {},
   "outputs": [
    {
     "name": "stdout",
     "output_type": "stream",
     "text": [
      "Shape of dataframe with all jobs:  (1296, 5)\n",
      "\n"
     ]
    },
    {
     "data": {
      "text/html": [
       "<div>\n",
       "<style scoped>\n",
       "    .dataframe tbody tr th:only-of-type {\n",
       "        vertical-align: middle;\n",
       "    }\n",
       "\n",
       "    .dataframe tbody tr th {\n",
       "        vertical-align: top;\n",
       "    }\n",
       "\n",
       "    .dataframe thead th {\n",
       "        text-align: right;\n",
       "    }\n",
       "</style>\n",
       "<table border=\"1\" class=\"dataframe\">\n",
       "  <thead>\n",
       "    <tr style=\"text-align: right;\">\n",
       "      <th></th>\n",
       "      <th>Title</th>\n",
       "      <th>Company</th>\n",
       "      <th>Location</th>\n",
       "      <th>Salary</th>\n",
       "      <th>Summary</th>\n",
       "    </tr>\n",
       "  </thead>\n",
       "  <tbody>\n",
       "    <tr>\n",
       "      <th>0</th>\n",
       "      <td>AI/ML - Chief of Staff, Machine Intelligence</td>\n",
       "      <td>Apple</td>\n",
       "      <td>Seattle, WA</td>\n",
       "      <td>NaN</td>\n",
       "      <td>The Machine Intelligence team is accelerating ...</td>\n",
       "    </tr>\n",
       "    <tr>\n",
       "      <th>1</th>\n",
       "      <td>Senior Data Scientist, Rich Media Experiences</td>\n",
       "      <td>Zillow</td>\n",
       "      <td>Washington State•Remote</td>\n",
       "      <td>$127,100 - $203,000 a year</td>\n",
       "      <td>Using Computer Vision techniques and AI-powere...</td>\n",
       "    </tr>\n",
       "    <tr>\n",
       "      <th>2</th>\n",
       "      <td>Machine Learning Engineer</td>\n",
       "      <td>Zillow</td>\n",
       "      <td>Washington State•Remote</td>\n",
       "      <td>$132,400 - $211,600 a year</td>\n",
       "      <td>These algorithms and platforms ingest large vo...</td>\n",
       "    </tr>\n",
       "    <tr>\n",
       "      <th>3</th>\n",
       "      <td>Senior Data Scientist</td>\n",
       "      <td>Zillow</td>\n",
       "      <td>Washington State•Remote</td>\n",
       "      <td>$127,100 - $203,000 a year</td>\n",
       "      <td>This data can be mined for intelligence on com...</td>\n",
       "    </tr>\n",
       "    <tr>\n",
       "      <th>4</th>\n",
       "      <td>Research Program Manager, Artificial Intelligence</td>\n",
       "      <td>Facebook</td>\n",
       "      <td>New York, NY</td>\n",
       "      <td>NaN</td>\n",
       "      <td>We drive efficiency, cultivate relationships, ...</td>\n",
       "    </tr>\n",
       "  </tbody>\n",
       "</table>\n",
       "</div>"
      ],
      "text/plain": [
       "                                               Title   Company  \\\n",
       "0       AI/ML - Chief of Staff, Machine Intelligence     Apple   \n",
       "1      Senior Data Scientist, Rich Media Experiences    Zillow   \n",
       "2                          Machine Learning Engineer    Zillow   \n",
       "3                              Senior Data Scientist    Zillow   \n",
       "4  Research Program Manager, Artificial Intelligence  Facebook   \n",
       "\n",
       "                  Location                      Salary  \\\n",
       "0              Seattle, WA                         NaN   \n",
       "1  Washington State•Remote  $127,100 - $203,000 a year   \n",
       "2  Washington State•Remote  $132,400 - $211,600 a year   \n",
       "3  Washington State•Remote  $127,100 - $203,000 a year   \n",
       "4             New York, NY                         NaN   \n",
       "\n",
       "                                             Summary  \n",
       "0  The Machine Intelligence team is accelerating ...  \n",
       "1  Using Computer Vision techniques and AI-powere...  \n",
       "2  These algorithms and platforms ingest large vo...  \n",
       "3  This data can be mined for intelligence on com...  \n",
       "4  We drive efficiency, cultivate relationships, ...  "
      ]
     },
     "execution_count": 2,
     "metadata": {},
     "output_type": "execute_result"
    }
   ],
   "source": [
    "# Read the csv file with all scraped data\n",
    "jobs = pd.read_csv(\"indeed_jobs.csv\")\n",
    "\n",
    "# Print the shape and the first rows\n",
    "print(\"Shape of dataframe with all jobs: \", \n",
    "      jobs.shape)\n",
    "print()\n",
    "jobs.head()"
   ]
  },
  {
   "cell_type": "code",
   "execution_count": 3,
   "metadata": {},
   "outputs": [
    {
     "name": "stdout",
     "output_type": "stream",
     "text": [
      "<class 'pandas.core.frame.DataFrame'>\n",
      "RangeIndex: 1296 entries, 0 to 1295\n",
      "Data columns (total 5 columns):\n",
      " #   Column    Non-Null Count  Dtype \n",
      "---  ------    --------------  ----- \n",
      " 0   Title     1296 non-null   object\n",
      " 1   Company   1296 non-null   object\n",
      " 2   Location  1296 non-null   object\n",
      " 3   Salary    370 non-null    object\n",
      " 4   Summary   1296 non-null   object\n",
      "dtypes: object(5)\n",
      "memory usage: 50.8+ KB\n"
     ]
    }
   ],
   "source": [
    "# Check the column types\n",
    "jobs.info()"
   ]
  },
  {
   "cell_type": "markdown",
   "metadata": {},
   "source": [
    "It can be observed that **all columns** are of **type 'object'**. The **Salary** column has **missing values**. "
   ]
  },
  {
   "cell_type": "markdown",
   "metadata": {},
   "source": [
    "### Remove duplicates"
   ]
  },
  {
   "cell_type": "code",
   "execution_count": 3,
   "metadata": {},
   "outputs": [
    {
     "name": "stdout",
     "output_type": "stream",
     "text": [
      "Shape of dataframe without duplicates:  (304, 5)\n"
     ]
    }
   ],
   "source": [
    "# Remove duplicates and \n",
    "# reset the index of the dataframe\n",
    "\n",
    "# Drop duplicates\n",
    "jobs = jobs.drop_duplicates()\n",
    "\n",
    "# Reset the index of the df\n",
    "jobs = jobs.reset_index(drop=True)\n",
    "\n",
    "# Print the shape of cleaned dataframe\n",
    "print(\"Shape of dataframe without duplicates: \",\n",
    "      jobs.shape)\n",
    "#jobs.head()"
   ]
  },
  {
   "cell_type": "markdown",
   "metadata": {},
   "source": [
    "### Data Analysis and Visualization"
   ]
  },
  {
   "cell_type": "markdown",
   "metadata": {},
   "source": [
    "Data analysis and visualizations can help us find the answer to some questions like, which **companies** or **locations** have the \n",
    "**highest number of job listings**; what is the **average minim or maxim salary**; which is the **count of the\n",
    "frequently used words in the job title**."
   ]
  },
  {
   "cell_type": "markdown",
   "metadata": {},
   "source": [
    "### 1. Which are the companies with the highest number of job listings?"
   ]
  },
  {
   "cell_type": "code",
   "execution_count": 4,
   "metadata": {},
   "outputs": [],
   "source": [
    "# Group the job Titles by Company\n",
    "comp_counts = jobs.groupby(\"Company\").\\\n",
    "        count()[\"Title\"].\\\n",
    "        sort_values(ascending=False)"
   ]
  },
  {
   "cell_type": "code",
   "execution_count": 5,
   "metadata": {},
   "outputs": [
    {
     "data": {
      "text/plain": [
       "Company\n",
       "Microsoft                    37\n",
       "Amazon.com Services LLC      21\n",
       "Zillow                       20\n",
       "Facebook                     12\n",
       "Amazon Web Services, Inc.    12\n",
       "Indeed                       11\n",
       "Expedia.com                   8\n",
       "TikTok                        8\n",
       "Redfin                        7\n",
       "Shelf Engine                  6\n",
       "Name: Title, dtype: int64"
      ]
     },
     "execution_count": 5,
     "metadata": {},
     "output_type": "execute_result"
    }
   ],
   "source": [
    "# Check the company for \n",
    "# first ten job count\n",
    "comp_counts.head(10)"
   ]
  },
  {
   "cell_type": "code",
   "execution_count": 6,
   "metadata": {},
   "outputs": [
    {
     "data": {
      "text/plain": [
       "37     1\n",
       "21     1\n",
       "20     1\n",
       "11     1\n",
       "7      1\n",
       "12     2\n",
       "8      2\n",
       "6      2\n",
       "5      2\n",
       "4      3\n",
       "3      3\n",
       "2     28\n",
       "1     69\n",
       "Name: Title, dtype: int64"
      ]
     },
     "execution_count": 6,
     "metadata": {},
     "output_type": "execute_result"
    }
   ],
   "source": [
    "# Check the total number of jobs for each company\n",
    "comp_counts.value_counts().\\\n",
    "        sort_values(ascending=True)"
   ]
  },
  {
   "cell_type": "code",
   "execution_count": 7,
   "metadata": {},
   "outputs": [
    {
     "data": {
      "text/plain": [
       "Text(0.5, 1.0, 'Count of Jobs per Company')"
      ]
     },
     "execution_count": 7,
     "metadata": {},
     "output_type": "execute_result"
    },
    {
     "data": {
      "image/png": "[encoded data removed]",
      "text/plain": [
       "<Figure size 720x360 with 1 Axes>"
      ]
     },
     "metadata": {},
     "output_type": "display_data"
    }
   ],
   "source": [
    "# Visualize the first 20 job Titles by Company\n",
    "\n",
    "# Define figure size\n",
    "sns.set(rc={\"figure.figsize\":(10, 5)}) \n",
    "\n",
    "# Display barplot\n",
    "sns.barplot(x=comp_counts[:20], \n",
    "            y=comp_counts[:20].index, \n",
    "            palette=\"viridis\")\n",
    "\n",
    "# Give the plot a title\n",
    "plt.title('Count of Jobs per Company', \n",
    "          fontsize=16)"
   ]
  },
  {
   "cell_type": "markdown",
   "metadata": {},
   "source": [
    "From the data we observe that **most of the companies have between 1 and 10 jobs**. <br>\n",
    "There are **69 companies** that posted only **1 job** and **28 companies that listed 2 jobs**.\n",
    "\n",
    "**Microsoft** has the **highest count** of jobs. It is followed by **Amazon** and **Zillow**, **Facebook** and **Indeed**."
   ]
  },
  {
   "cell_type": "markdown",
   "metadata": {},
   "source": [
    "### 2. Which locations have the greatest number of jobs?"
   ]
  },
  {
   "cell_type": "code",
   "execution_count": 8,
   "metadata": {},
   "outputs": [
    {
     "data": {
      "text/plain": [
       "Location\n",
       "Seattle, WA                                     57\n",
       "Washington State•Remote                         24\n",
       "Redmond, WA 98052 (Overlake area)               14\n",
       "Seattle, WA•Remote                              13\n",
       "Seattle, WA 98101 (Downtown area)               10\n",
       "Bellevue, WA                                     9\n",
       "Seattle, WA•Temporarily Remote                   8\n",
       "Redmond, WA 98052 (Overlake area)+1 location     8\n",
       "Seattle, WA 98119 (Queen Anne area)              7\n",
       "Seattle, WA+1 location                           6\n",
       "Name: Title, dtype: int64"
      ]
     },
     "execution_count": 8,
     "metadata": {},
     "output_type": "execute_result"
    }
   ],
   "source": [
    "# Group the job Titles by Location\n",
    "loc_counts = jobs.groupby(\"Location\").\\\n",
    "        count()[\"Title\"].\\\n",
    "        sort_values(ascending=False)\n",
    "\n",
    "# Check the location for\n",
    "# first ten job count\n",
    "loc_counts.head(10)"
   ]
  },
  {
   "cell_type": "code",
   "execution_count": 9,
   "metadata": {},
   "outputs": [
    {
     "data": {
      "text/plain": [
       "57     1\n",
       "24     1\n",
       "14     1\n",
       "13     1\n",
       "10     1\n",
       "9      1\n",
       "7      1\n",
       "6      1\n",
       "8      2\n",
       "4      2\n",
       "5      3\n",
       "3      6\n",
       "2     21\n",
       "1     65\n",
       "Name: Title, dtype: int64"
      ]
     },
     "execution_count": 9,
     "metadata": {},
     "output_type": "execute_result"
    }
   ],
   "source": [
    "# Check the total number of jobs for one locations\n",
    "loc_counts.value_counts().\\\n",
    "        sort_values(ascending=True)"
   ]
  },
  {
   "cell_type": "code",
   "execution_count": 10,
   "metadata": {},
   "outputs": [
    {
     "data": {
      "text/plain": [
       "Text(0.5, 1.0, 'Count of Jobs per Location')"
      ]
     },
     "execution_count": 10,
     "metadata": {},
     "output_type": "execute_result"
    },
    {
     "data": {
      "image/png": "[encoded data removed]",
      "text/plain": [
       "<Figure size 576x288 with 1 Axes>"
      ]
     },
     "metadata": {},
     "output_type": "display_data"
    }
   ],
   "source": [
    "# Visualize the first 10 job Titles by Location\n",
    "\n",
    "# Define figure size\n",
    "sns.set(rc={\"figure.figsize\":(8, 4)}) \n",
    "\n",
    "# Display barplot\n",
    "sns.barplot(x=loc_counts[:10], \n",
    "            y=loc_counts[:10].index, \n",
    "            palette=\"winter\")\n",
    "\n",
    "# Give the plot a title\n",
    "plt.title('Count of Jobs per Location', \n",
    "          fontsize=16)"
   ]
  },
  {
   "cell_type": "markdown",
   "metadata": {},
   "source": [
    "The **highest** concentration of job positions is in **Seattle with 57 counts**. \n",
    "\n",
    "Remote positions in **Washington State** come next with **24 count**, followed by **Redmond and Bellevue with\n",
    "10-14 counts**. \n",
    "\n",
    "There are **65 locations** across Washington State that list **1 job** and **21 locations** with **2 positions**."
   ]
  },
  {
   "cell_type": "markdown",
   "metadata": {},
   "source": [
    "### 3. What is the average salary?"
   ]
  },
  {
   "cell_type": "markdown",
   "metadata": {},
   "source": [
    "The **steps** for calculating the **average minim** and **average maxim** salary for all the job postings are:\n",
    "- **drop** the rows with **missing values** for Salary and reset index\n",
    "- **check the formatting** of the Salary column\n",
    "- define a **function to format**, calculate and split Salary in minim and maxim values\n",
    "- **apply the function** to Salary column\n",
    "- **calculate the mean** of the columns with minim and maxim salary values"
   ]
  },
  {
   "cell_type": "code",
   "execution_count": 11,
   "metadata": {},
   "outputs": [
    {
     "name": "stdout",
     "output_type": "stream",
     "text": [
      "Shape of the dataframe with jobs with salary listed:  (85, 5)\n"
     ]
    },
    {
     "data": {
      "text/html": [
       "<div>\n",
       "<style scoped>\n",
       "    .dataframe tbody tr th:only-of-type {\n",
       "        vertical-align: middle;\n",
       "    }\n",
       "\n",
       "    .dataframe tbody tr th {\n",
       "        vertical-align: top;\n",
       "    }\n",
       "\n",
       "    .dataframe thead th {\n",
       "        text-align: right;\n",
       "    }\n",
       "</style>\n",
       "<table border=\"1\" class=\"dataframe\">\n",
       "  <thead>\n",
       "    <tr style=\"text-align: right;\">\n",
       "      <th></th>\n",
       "      <th>Title</th>\n",
       "      <th>Company</th>\n",
       "      <th>Location</th>\n",
       "      <th>Salary</th>\n",
       "      <th>Summary</th>\n",
       "    </tr>\n",
       "  </thead>\n",
       "  <tbody>\n",
       "    <tr>\n",
       "      <th>0</th>\n",
       "      <td>Senior Data Scientist, Rich Media Experiences</td>\n",
       "      <td>Zillow</td>\n",
       "      <td>Washington State•Remote</td>\n",
       "      <td>$127,100 - $203,000 a year</td>\n",
       "      <td>Using Computer Vision techniques and AI-powere...</td>\n",
       "    </tr>\n",
       "    <tr>\n",
       "      <th>1</th>\n",
       "      <td>Machine Learning Engineer</td>\n",
       "      <td>Zillow</td>\n",
       "      <td>Washington State•Remote</td>\n",
       "      <td>$132,400 - $211,600 a year</td>\n",
       "      <td>These algorithms and platforms ingest large vo...</td>\n",
       "    </tr>\n",
       "    <tr>\n",
       "      <th>2</th>\n",
       "      <td>Senior Data Scientist</td>\n",
       "      <td>Zillow</td>\n",
       "      <td>Washington State•Remote</td>\n",
       "      <td>$127,100 - $203,000 a year</td>\n",
       "      <td>This data can be mined for intelligence on com...</td>\n",
       "    </tr>\n",
       "  </tbody>\n",
       "</table>\n",
       "</div>"
      ],
      "text/plain": [
       "                                           Title Company  \\\n",
       "0  Senior Data Scientist, Rich Media Experiences  Zillow   \n",
       "1                      Machine Learning Engineer  Zillow   \n",
       "2                          Senior Data Scientist  Zillow   \n",
       "\n",
       "                  Location                      Salary  \\\n",
       "0  Washington State•Remote  $127,100 - $203,000 a year   \n",
       "1  Washington State•Remote  $132,400 - $211,600 a year   \n",
       "2  Washington State•Remote  $127,100 - $203,000 a year   \n",
       "\n",
       "                                             Summary  \n",
       "0  Using Computer Vision techniques and AI-powere...  \n",
       "1  These algorithms and platforms ingest large vo...  \n",
       "2  This data can be mined for intelligence on com...  "
      ]
     },
     "execution_count": 11,
     "metadata": {},
     "output_type": "execute_result"
    }
   ],
   "source": [
    "# Drop the rows with missing values for Salary\n",
    "jobs_salary = jobs[jobs[\"Salary\"] != \"None\"].dropna()\n",
    "\n",
    "# Reset the index\n",
    "jobs_salary.reset_index(inplace=True)\n",
    "\n",
    "# Drop old index\n",
    "jobs_salary = jobs_salary.drop([\"index\"], \n",
    "        axis=1)\n",
    "\n",
    "# Print shape of the dataframe\n",
    "# with jobs with salary listed\n",
    "print(\"Shape of the dataframe with jobs with salary listed: \", \n",
    "      jobs_salary.shape)\n",
    "\n",
    "# Check the first rows\n",
    "jobs_salary.head(3)"
   ]
  },
  {
   "cell_type": "code",
   "execution_count": 12,
   "metadata": {
    "collapsed": true
   },
   "outputs": [
    {
     "data": {
      "text/plain": [
       "$127,100 - $203,000 a year    10\n",
       "$132,400 - $211,600 a year     5\n",
       "From $50,000 a year            3\n",
       "$110,000 - $175,000 a year     3\n",
       "$118,000 - $170,000 a year     3\n",
       "$157,900 - $252,200 a year     3\n",
       "$144,000 a year                2\n",
       "$112,300 - $160,000 a year     2\n",
       "$6,217 - $8,156 a month        2\n",
       "$125,000 - $175,000 a year     2\n",
       "$50 - $70 an hour              2\n",
       "Up to $155,700 a year          2\n",
       "From $100,000 a year           2\n",
       "$132,000 - $192,000 a year     2\n",
       "$153,000 - $223,000 a year     2\n",
       "$70,000 - $85,000 a year       2\n",
       "$45 - $50 an hour              2\n",
       "$223,000 - $324,000 a year     2\n",
       "$100,000 - $200,000 a year     1\n",
       "$168,600 - $221,900 a year     1\n",
       "$179,000 - $259,000 a year     1\n",
       "$130,500 - $163,100 a year     1\n",
       "$85,000 - $110,000 a year      1\n",
       "Up to $90 an hour              1\n",
       "From $60 an hour               1\n",
       "$76,880 - $120,000 a year      1\n",
       "$107,800 - $172,200 a year     1\n",
       "$86,000 a year                 1\n",
       "$75 - $90 an hour              1\n",
       "$4,288 - $6,046 a month        1\n",
       "From $150,000 a year           1\n",
       "$50,000 - $300,000 a year      1\n",
       "$180,000 a year                1\n",
       "$150,000 a year                1\n",
       "$50,000 - $62,000 a year       1\n",
       "$55,000 - $65,000 a year       1\n",
       "$110,000 a year                1\n",
       "$72.50 an hour                 1\n",
       "Up to $75 an hour              1\n",
       "$70,000 - $140,000 a year      1\n",
       "$40 - $60 an hour              1\n",
       "Up to $90,000 a year           1\n",
       "$100,000 a year                1\n",
       "$85,653 - $148,423 a year      1\n",
       "$5,326 - $6,991 a month        1\n",
       "From $80,000 a year            1\n",
       "$109,000 - $159,000 a year     1\n",
       "$129,400 - $206,600 a year     1\n",
       "$82,400 a year                 1\n",
       "$100,000 - $150,000 a year     1\n",
       "From $65,000 a year            1\n",
       "$34.92 an hour                 1\n",
       "Name: Salary, dtype: int64"
      ]
     },
     "execution_count": 12,
     "metadata": {},
     "output_type": "execute_result"
    }
   ],
   "source": [
    "# Check how the salary is formated\n",
    "jobs_salary['Salary'].value_counts()"
   ]
  },
  {
   "cell_type": "markdown",
   "metadata": {},
   "source": [
    "It can be observed that the salary is formatted in different ways. \n",
    "The most common formatting is a range between minim and maxim salary (e.g., \"127,100-203.000 a year\").\n",
    "\n",
    "In some cases the format is \"72.50 an hour\" (row 12) or \"34.92 an hour\" (row 84). \n",
    "We replace the float values with an integer."
   ]
  },
  {
   "cell_type": "code",
   "execution_count": 13,
   "metadata": {},
   "outputs": [
    {
     "data": {
      "text/html": [
       "<div>\n",
       "<style scoped>\n",
       "    .dataframe tbody tr th:only-of-type {\n",
       "        vertical-align: middle;\n",
       "    }\n",
       "\n",
       "    .dataframe tbody tr th {\n",
       "        vertical-align: top;\n",
       "    }\n",
       "\n",
       "    .dataframe thead th {\n",
       "        text-align: right;\n",
       "    }\n",
       "</style>\n",
       "<table border=\"1\" class=\"dataframe\">\n",
       "  <thead>\n",
       "    <tr style=\"text-align: right;\">\n",
       "      <th></th>\n",
       "      <th>Title</th>\n",
       "      <th>Company</th>\n",
       "      <th>Location</th>\n",
       "      <th>Salary</th>\n",
       "      <th>Summary</th>\n",
       "    </tr>\n",
       "  </thead>\n",
       "  <tbody>\n",
       "    <tr>\n",
       "      <th>11</th>\n",
       "      <td>Cloud Intelligence Associate Specialist SA</td>\n",
       "      <td>Amazon Web Services, Inc.</td>\n",
       "      <td>Seattle, WA+1 location</td>\n",
       "      <td>$112,300 - $160,000 a year</td>\n",
       "      <td>BA/BS degree or equivalent.Experience with Mic...</td>\n",
       "    </tr>\n",
       "    <tr>\n",
       "      <th>12</th>\n",
       "      <td>Fully Remote Server Side Engineer</td>\n",
       "      <td>Actalent</td>\n",
       "      <td>Everett, WA 98201 (Bayside area)•Remote</td>\n",
       "      <td>$72 an hour</td>\n",
       "      <td>We use agile processes with rapid iteration, w...</td>\n",
       "    </tr>\n",
       "  </tbody>\n",
       "</table>\n",
       "</div>"
      ],
      "text/plain": [
       "                                         Title                    Company  \\\n",
       "11  Cloud Intelligence Associate Specialist SA  Amazon Web Services, Inc.   \n",
       "12           Fully Remote Server Side Engineer                   Actalent   \n",
       "\n",
       "                                   Location                      Salary  \\\n",
       "11                   Seattle, WA+1 location  $112,300 - $160,000 a year   \n",
       "12  Everett, WA 98201 (Bayside area)•Remote                 $72 an hour   \n",
       "\n",
       "                                              Summary  \n",
       "11  BA/BS degree or equivalent.Experience with Mic...  \n",
       "12  We use agile processes with rapid iteration, w...  "
      ]
     },
     "execution_count": 13,
     "metadata": {},
     "output_type": "execute_result"
    }
   ],
   "source": [
    "# Replace \"$72.50 an hour\" with \"\"$72 an hour\" (row 12), so it works when calculate min and max salary\n",
    "jobs_salary.loc[jobs_salary.loc[:, \"Salary\"] == \"$72.50 an hour\", \"Salary\"] =  \"$72 an hour\"\n",
    "jobs_salary.loc[11:12, :]"
   ]
  },
  {
   "cell_type": "code",
   "execution_count": 14,
   "metadata": {},
   "outputs": [
    {
     "data": {
      "text/html": [
       "<div>\n",
       "<style scoped>\n",
       "    .dataframe tbody tr th:only-of-type {\n",
       "        vertical-align: middle;\n",
       "    }\n",
       "\n",
       "    .dataframe tbody tr th {\n",
       "        vertical-align: top;\n",
       "    }\n",
       "\n",
       "    .dataframe thead th {\n",
       "        text-align: right;\n",
       "    }\n",
       "</style>\n",
       "<table border=\"1\" class=\"dataframe\">\n",
       "  <thead>\n",
       "    <tr style=\"text-align: right;\">\n",
       "      <th></th>\n",
       "      <th>Title</th>\n",
       "      <th>Company</th>\n",
       "      <th>Location</th>\n",
       "      <th>Salary</th>\n",
       "      <th>Summary</th>\n",
       "    </tr>\n",
       "  </thead>\n",
       "  <tbody>\n",
       "    <tr>\n",
       "      <th>83</th>\n",
       "      <td>Senior Data Scientist, Rich Media Experiences</td>\n",
       "      <td>Zillow</td>\n",
       "      <td>Washington State+1 location•Remote</td>\n",
       "      <td>$127,100 - $203,000 a year</td>\n",
       "      <td>Bachelor in Mathematics, Statistics, Engineeri...</td>\n",
       "    </tr>\n",
       "    <tr>\n",
       "      <th>84</th>\n",
       "      <td>Enterprise Data Analyst</td>\n",
       "      <td>Vancouver Public Schools</td>\n",
       "      <td>Vancouver, WA 98661 (Bagley Downs area)</td>\n",
       "      <td>$35 an hour</td>\n",
       "      <td>Job Description Primary Location Assessment &amp; ...</td>\n",
       "    </tr>\n",
       "  </tbody>\n",
       "</table>\n",
       "</div>"
      ],
      "text/plain": [
       "                                            Title                   Company  \\\n",
       "83  Senior Data Scientist, Rich Media Experiences                    Zillow   \n",
       "84                        Enterprise Data Analyst  Vancouver Public Schools   \n",
       "\n",
       "                                   Location                      Salary  \\\n",
       "83       Washington State+1 location•Remote  $127,100 - $203,000 a year   \n",
       "84  Vancouver, WA 98661 (Bagley Downs area)                 $35 an hour   \n",
       "\n",
       "                                              Summary  \n",
       "83  Bachelor in Mathematics, Statistics, Engineeri...  \n",
       "84  Job Description Primary Location Assessment & ...  "
      ]
     },
     "execution_count": 14,
     "metadata": {},
     "output_type": "execute_result"
    }
   ],
   "source": [
    "# Replace \"$34.92 an hour\" with \"\"$35 an hour\"\n",
    "jobs_salary.loc[jobs_salary.loc[:, \"Salary\"] == \"$34.92 an hour\", \"Salary\"] =  \"$35 an hour\"\n",
    "jobs_salary.loc[83:84, :]"
   ]
  },
  {
   "cell_type": "code",
   "execution_count": 16,
   "metadata": {},
   "outputs": [],
   "source": [
    "# Create a function to format the Salary column\n",
    "def format_salary(row):\n",
    "    \"\"\"Format the Salary column and calculate the minim and maxim salary\"\"\"\n",
    "    \n",
    "    salary = row[\"Salary\"]\n",
    "    \n",
    "    # Split salary string in min and max \n",
    "    if \"-\" in salary:\n",
    "        split = salary.split(\"-\")   \n",
    "        salary_min = split[0]\n",
    "        salary_max = split[1]\n",
    "    else:\n",
    "        salary_min = salary\n",
    "        salary_max = salary\n",
    "    \n",
    "    # Replace the word or char with an empty string\n",
    "    row[\"salary_min\"] = salary_min.\\\n",
    "            replace(\"$\", \"\").\\\n",
    "            replace(\"From\", \"\").\\\n",
    "            replace(\"Up to\", \"\").\\\n",
    "            replace(\"a month\", \"\").\\\n",
    "            replace(\"a year\", \"\").\\\n",
    "            replace(\"an hour\", \"\").\\\n",
    "            replace(\",\", \"\").strip()\n",
    "    row[\"salary_max\"] = salary_max.\\\n",
    "            replace(\"$\", \"\").\\\n",
    "            replace(\"From\", \"\").\\\n",
    "            replace(\"Up to\", \"\").\\\n",
    "            replace(\"a month\", \"\").\\\n",
    "            replace(\"a year\", \"\").\\\n",
    "            replace(\"an hour\", \"\").\\\n",
    "            replace(\",\", \"\").strip()\n",
    "    \n",
    "    # Convert to integer and calculate the salary per year\n",
    "    if \"month\" in row[\"Salary\"]:\n",
    "        row[\"salary_min\"] = int(row[\"salary_min\"]) * 12\n",
    "        row[\"salary_max\"] = int(row[\"salary_max\"]) * 12\n",
    "        \n",
    "    if \"week\" in row[\"Salary\"]:\n",
    "        row[\"salary_min\"] = int(row[\"salary_min\"]) * 52\n",
    "        row[\"salary_max\"] = int(row[\"salary_max\"]) * 52\n",
    "        \n",
    "    if \"day\" in row[\"Salary\"]:\n",
    "        row[\"salary_min\"] = int(row[\"salary_min\"]) * 260\n",
    "        row[\"salary_max\"] = int(row[\"salary_max\"]) * 260\n",
    "        \n",
    "    if \"hour\" in row[\"Salary\"]:\n",
    "        row[\"salary_min\"] = int(row[\"salary_min\"]) * 2080\n",
    "        row[\"salary_max\"] = int(row[\"salary_max\"]) * 2080\n",
    "        \n",
    "    return row"
   ]
  },
  {
   "cell_type": "code",
   "execution_count": 17,
   "metadata": {},
   "outputs": [
    {
     "data": {
      "text/html": [
       "<div>\n",
       "<style scoped>\n",
       "    .dataframe tbody tr th:only-of-type {\n",
       "        vertical-align: middle;\n",
       "    }\n",
       "\n",
       "    .dataframe tbody tr th {\n",
       "        vertical-align: top;\n",
       "    }\n",
       "\n",
       "    .dataframe thead th {\n",
       "        text-align: right;\n",
       "    }\n",
       "</style>\n",
       "<table border=\"1\" class=\"dataframe\">\n",
       "  <thead>\n",
       "    <tr style=\"text-align: right;\">\n",
       "      <th></th>\n",
       "      <th>Title</th>\n",
       "      <th>Company</th>\n",
       "      <th>Location</th>\n",
       "      <th>Salary</th>\n",
       "      <th>Summary</th>\n",
       "      <th>salary_min</th>\n",
       "      <th>salary_max</th>\n",
       "    </tr>\n",
       "  </thead>\n",
       "  <tbody>\n",
       "    <tr>\n",
       "      <th>0</th>\n",
       "      <td>Senior Data Scientist, Rich Media Experiences</td>\n",
       "      <td>Zillow</td>\n",
       "      <td>Washington State•Remote</td>\n",
       "      <td>$127,100 - $203,000 a year</td>\n",
       "      <td>Using Computer Vision techniques and AI-powere...</td>\n",
       "      <td>127100</td>\n",
       "      <td>203000</td>\n",
       "    </tr>\n",
       "    <tr>\n",
       "      <th>1</th>\n",
       "      <td>Machine Learning Engineer</td>\n",
       "      <td>Zillow</td>\n",
       "      <td>Washington State•Remote</td>\n",
       "      <td>$132,400 - $211,600 a year</td>\n",
       "      <td>These algorithms and platforms ingest large vo...</td>\n",
       "      <td>132400</td>\n",
       "      <td>211600</td>\n",
       "    </tr>\n",
       "    <tr>\n",
       "      <th>2</th>\n",
       "      <td>Senior Data Scientist</td>\n",
       "      <td>Zillow</td>\n",
       "      <td>Washington State•Remote</td>\n",
       "      <td>$127,100 - $203,000 a year</td>\n",
       "      <td>This data can be mined for intelligence on com...</td>\n",
       "      <td>127100</td>\n",
       "      <td>203000</td>\n",
       "    </tr>\n",
       "    <tr>\n",
       "      <th>3</th>\n",
       "      <td>Operations Support Specialist</td>\n",
       "      <td>Shelf Engine</td>\n",
       "      <td>Washington State•Remote</td>\n",
       "      <td>$50,000 - $62,000 a year</td>\n",
       "      <td>We harness the power of AI to provide real-tim...</td>\n",
       "      <td>50000</td>\n",
       "      <td>62000</td>\n",
       "    </tr>\n",
       "    <tr>\n",
       "      <th>4</th>\n",
       "      <td>Senior Data Scientist, Rich Media Experiences</td>\n",
       "      <td>Zillow</td>\n",
       "      <td>Washington State+1 location•Remote</td>\n",
       "      <td>$127,100 - $203,000 a year</td>\n",
       "      <td>Using Computer Vision techniques and AI-powere...</td>\n",
       "      <td>127100</td>\n",
       "      <td>203000</td>\n",
       "    </tr>\n",
       "  </tbody>\n",
       "</table>\n",
       "</div>"
      ],
      "text/plain": [
       "                                           Title       Company  \\\n",
       "0  Senior Data Scientist, Rich Media Experiences        Zillow   \n",
       "1                      Machine Learning Engineer        Zillow   \n",
       "2                          Senior Data Scientist        Zillow   \n",
       "3                  Operations Support Specialist  Shelf Engine   \n",
       "4  Senior Data Scientist, Rich Media Experiences        Zillow   \n",
       "\n",
       "                             Location                      Salary  \\\n",
       "0             Washington State•Remote  $127,100 - $203,000 a year   \n",
       "1             Washington State•Remote  $132,400 - $211,600 a year   \n",
       "2             Washington State•Remote  $127,100 - $203,000 a year   \n",
       "3             Washington State•Remote    $50,000 - $62,000 a year   \n",
       "4  Washington State+1 location•Remote  $127,100 - $203,000 a year   \n",
       "\n",
       "                                             Summary salary_min salary_max  \n",
       "0  Using Computer Vision techniques and AI-powere...     127100     203000  \n",
       "1  These algorithms and platforms ingest large vo...     132400     211600  \n",
       "2  This data can be mined for intelligence on com...     127100     203000  \n",
       "3  We harness the power of AI to provide real-tim...      50000      62000  \n",
       "4  Using Computer Vision techniques and AI-powere...     127100     203000  "
      ]
     },
     "execution_count": 17,
     "metadata": {},
     "output_type": "execute_result"
    }
   ],
   "source": [
    "# Apply the format_salary() function to the Salary column\n",
    "jobs_salary = jobs_salary.\\\n",
    "        apply(format_salary, axis=1)\n",
    "\n",
    "# Check the newly created columns\n",
    "# salary_min and salary_max\n",
    "jobs_salary.head(5)"
   ]
  },
  {
   "cell_type": "code",
   "execution_count": 18,
   "metadata": {},
   "outputs": [
    {
     "data": {
      "text/plain": [
       "Title         object\n",
       "Company       object\n",
       "Location      object\n",
       "Salary        object\n",
       "Summary       object\n",
       "salary_min    object\n",
       "salary_max    object\n",
       "dtype: object"
      ]
     },
     "execution_count": 18,
     "metadata": {},
     "output_type": "execute_result"
    }
   ],
   "source": [
    "# Check the data types of the columns\n",
    "jobs_salary.dtypes"
   ]
  },
  {
   "cell_type": "code",
   "execution_count": 19,
   "metadata": {},
   "outputs": [
    {
     "data": {
      "text/plain": [
       "Title         object\n",
       "Company       object\n",
       "Location      object\n",
       "Salary        object\n",
       "Summary       object\n",
       "salary_min     int64\n",
       "salary_max     int64\n",
       "dtype: object"
      ]
     },
     "execution_count": 19,
     "metadata": {},
     "output_type": "execute_result"
    }
   ],
   "source": [
    "# All the columns are of 'object' type\n",
    "# Coerce to numeric the columns salary_min and salary_max\n",
    "jobs_salary[\"salary_min\"] = pd.to_numeric(jobs_salary[\"salary_min\"], \"coerce\")\n",
    "jobs_salary[\"salary_max\"] = pd.to_numeric(jobs_salary[\"salary_max\"], \"coerce\")\n",
    "jobs_salary.dtypes"
   ]
  },
  {
   "cell_type": "code",
   "execution_count": 20,
   "metadata": {},
   "outputs": [
    {
     "name": "stdout",
     "output_type": "stream",
     "text": [
      "115887\n",
      "159665\n"
     ]
    }
   ],
   "source": [
    "# Calculate the min and max mean salary\n",
    "print(int(jobs_salary[\"salary_min\"].mean()))\n",
    "print(int(jobs_salary[\"salary_max\"].mean()))"
   ]
  },
  {
   "cell_type": "markdown",
   "metadata": {},
   "source": [
    "The **Minim average salary is 115,887 a year** and the **Maxim avarage salary is 159,665 a year**. "
   ]
  },
  {
   "cell_type": "markdown",
   "metadata": {},
   "source": [
    "### 4. Which words have the highest count of occurrences in job title?"
   ]
  },
  {
   "cell_type": "code",
   "execution_count": 21,
   "metadata": {},
   "outputs": [
    {
     "data": {
      "text/plain": [
       "1378"
      ]
     },
     "execution_count": 21,
     "metadata": {},
     "output_type": "execute_result"
    }
   ],
   "source": [
    "# Create a list with all the words in jobs Title\n",
    "\n",
    "# Declare empty list\n",
    "word_list = []\n",
    "\n",
    "# Replace chars in jobs Titles with space and split\n",
    "for row in jobs['Title'].\\\n",
    "        str.replace(\"[^a-zA-Z ]\",\n",
    "        \" \",\n",
    "        regex=True).str.split(\" \"):\n",
    "    \n",
    "    # Add words from the jobs Title to the list\n",
    "    for word in row:\n",
    "        word_list.append(word)\n",
    "        \n",
    "# Get rid of empty strings\n",
    "word_list = list(filter(None, word_list))\n",
    "\n",
    "# Check the lenght of the list of words\n",
    "len(word_list)"
   ]
  },
  {
   "cell_type": "code",
   "execution_count": 22,
   "metadata": {},
   "outputs": [
    {
     "data": {
      "text/html": [
       "<div>\n",
       "<style scoped>\n",
       "    .dataframe tbody tr th:only-of-type {\n",
       "        vertical-align: middle;\n",
       "    }\n",
       "\n",
       "    .dataframe tbody tr th {\n",
       "        vertical-align: top;\n",
       "    }\n",
       "\n",
       "    .dataframe thead th {\n",
       "        text-align: right;\n",
       "    }\n",
       "</style>\n",
       "<table border=\"1\" class=\"dataframe\">\n",
       "  <thead>\n",
       "    <tr style=\"text-align: right;\">\n",
       "      <th></th>\n",
       "      <th>Word</th>\n",
       "      <th>Count</th>\n",
       "    </tr>\n",
       "  </thead>\n",
       "  <tbody>\n",
       "    <tr>\n",
       "      <th>0</th>\n",
       "      <td>Data</td>\n",
       "      <td>157</td>\n",
       "    </tr>\n",
       "    <tr>\n",
       "      <th>1</th>\n",
       "      <td>Scientist</td>\n",
       "      <td>96</td>\n",
       "    </tr>\n",
       "    <tr>\n",
       "      <th>2</th>\n",
       "      <td>Engineer</td>\n",
       "      <td>88</td>\n",
       "    </tr>\n",
       "    <tr>\n",
       "      <th>3</th>\n",
       "      <td>Senior</td>\n",
       "      <td>64</td>\n",
       "    </tr>\n",
       "    <tr>\n",
       "      <th>4</th>\n",
       "      <td>Learning</td>\n",
       "      <td>58</td>\n",
       "    </tr>\n",
       "  </tbody>\n",
       "</table>\n",
       "</div>"
      ],
      "text/plain": [
       "        Word Count\n",
       "0       Data   157\n",
       "1  Scientist    96\n",
       "2   Engineer    88\n",
       "3     Senior    64\n",
       "4   Learning    58"
      ]
     },
     "execution_count": 22,
     "metadata": {},
     "output_type": "execute_result"
    }
   ],
   "source": [
    "# Create a dataframe with unique words and the count for each of them \n",
    "unique_words = pd.DataFrame(np.unique(word_list, return_counts = True), \\\n",
    "            index = ['Word', 'Count']).T.sort_values('Count', \n",
    "            ascending = False).reset_index(drop=True)\n",
    "\n",
    "unique_words[:5]"
   ]
  },
  {
   "cell_type": "code",
   "execution_count": 23,
   "metadata": {},
   "outputs": [
    {
     "data": {
      "text/plain": [
       "Text(0.5, 1.0, 'Most Common Words in job Title')"
      ]
     },
     "execution_count": 23,
     "metadata": {},
     "output_type": "execute_result"
    },
    {
     "data": {
      "image/png": "[encoded data removed]",
      "text/plain": [
       "<Figure size 720x360 with 1 Axes>"
      ]
     },
     "metadata": {},
     "output_type": "display_data"
    }
   ],
   "source": [
    "# Visualize the Most Common Words in job Title\n",
    "\n",
    "# Define figure size\n",
    "sns.set(rc={\"figure.figsize\":(10, 5)}) \n",
    "\n",
    "# Display barplot\n",
    "sns.barplot(data = unique_words.loc[0:9], \n",
    "            x = \"Word\", \n",
    "            y = 'Count' )\n",
    "\n",
    "# Give the plot a title\n",
    "plt.title('Most Common Words in job Title', \n",
    "          fontsize=16)"
   ]
  },
  {
   "cell_type": "markdown",
   "metadata": {},
   "source": [
    "The word with highest count of occurrences in job Title is **data** with almost 160 counts. It is followed by **scientist** and \n",
    "**engineer** with almost 100 counts. **Learning**, **machine** and **analyst** words have counts lower than 60."
   ]
  },
  {
   "cell_type": "code",
   "execution_count": null,
   "metadata": {},
   "outputs": [],
   "source": []
  }
 ],
 "metadata": {
  "kernelspec": {
   "display_name": "Python 3 (ipykernel)",
   "language": "python",
   "name": "python3"
  },
  "language_info": {
   "codemirror_mode": {
    "name": "ipython",
    "version": 3
   },
   "file_extension": ".py",
   "mimetype": "text/x-python",
   "name": "python",
   "nbconvert_exporter": "python",
   "pygments_lexer": "ipython3",
   "version": "3.9.12"
  }
 },
 "nbformat": 4,
 "nbformat_minor": 4
}
